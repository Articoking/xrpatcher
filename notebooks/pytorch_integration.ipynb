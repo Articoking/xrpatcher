{
 "cells": [
  {
   "cell_type": "markdown",
   "id": "b3ed1dfa",
   "metadata": {
    "colab_type": "text",
    "id": "view-in-github"
   },
   "source": [
    "<a href=\"https://colab.research.google.com/github/jejjohnson/xrpatcher/blob/main/notebooks/pytorch_integration.ipynb\" target=\"_parent\"><img src=\"https://colab.research.google.com/assets/colab-badge.svg\" alt=\"Open In Colab\"/></a>"
   ]
  },
  {
   "cell_type": "markdown",
   "id": "8a615fa8-43d9-4c66-b542-dbc88f9920a1",
   "metadata": {
    "id": "8a615fa8-43d9-4c66-b542-dbc88f9920a1"
   },
   "source": [
    "# Pytorch Dataset Integration Demo"
   ]
  },
  {
   "cell_type": "code",
   "execution_count": null,
   "id": "132c5c44-3de3-43f1-b47c-49e3c0f999f1",
   "metadata": {
    "colab": {
     "base_uri": "https://localhost:8080/"
    },
    "id": "132c5c44-3de3-43f1-b47c-49e3c0f999f1",
    "outputId": "9faed480-a173-408a-9d02-e05e747e2884",
    "tags": []
   },
   "outputs": [],
   "source": [
    "%cd .."
   ]
  },
  {
   "cell_type": "code",
   "execution_count": null,
   "id": "dd75ee9b-361f-4766-898a-90e3220e5c66",
   "metadata": {
    "colab": {
     "base_uri": "https://localhost:8080/"
    },
    "id": "dd75ee9b-361f-4766-898a-90e3220e5c66",
    "outputId": "d88a1450-a576-42d9-f2ff-6bb23ef7772b",
    "tags": []
   },
   "outputs": [],
   "source": [
    "%pip install \"git+https://github.com/jejjohnson/xrpatcher.git\"\n",
    "%pip install torch --index-url https://download.pytorch.org/whl/cpu"
   ]
  },
  {
   "cell_type": "code",
   "execution_count": null,
   "id": "be615939-dc47-45d6-b159-5ec3d711e2af",
   "metadata": {
    "id": "be615939-dc47-45d6-b159-5ec3d711e2af",
    "tags": []
   },
   "outputs": [],
   "source": [
    "import torch\n",
    "from xrpatcher import XRDAPatcher\n",
    "\n",
    "import matplotlib.pyplot as plt\n",
    "import itertools\n",
    "import xarray as xr\n",
    "import collections\n",
    "import numpy as np"
   ]
  },
  {
   "cell_type": "code",
   "execution_count": null,
   "id": "90b6c5d8-caeb-428e-8b30-2221e22a12fe",
   "metadata": {
    "id": "90b6c5d8-caeb-428e-8b30-2221e22a12fe",
    "tags": []
   },
   "outputs": [],
   "source": [
    "# import importlib\n",
    "# importlib.reload(xrda)"
   ]
  },
  {
   "cell_type": "markdown",
   "id": "d6191e06-b2c5-406a-8ca6-9784bc2fac90",
   "metadata": {
    "id": "d6191e06-b2c5-406a-8ca6-9784bc2fac90"
   },
   "source": [
    "## Torch dataset wrapper of the XRDAPatcher"
   ]
  },
  {
   "cell_type": "code",
   "execution_count": null,
   "id": "38023597-d88b-4211-87ef-e0f21da729b5",
   "metadata": {
    "id": "38023597-d88b-4211-87ef-e0f21da729b5",
    "tags": []
   },
   "outputs": [],
   "source": [
    "class XrTorchDataset(torch.utils.data.Dataset):\n",
    "    def __init__(self, batcher: XRDAPatcher, item_postpro=None):\n",
    "        self.batcher = batcher\n",
    "        self.postpro = item_postpro\n",
    "\n",
    "    def __getitem__(self, idx):\n",
    "        item = self.batcher[idx].load().values\n",
    "        if self.postpro:\n",
    "            item = self.postpro(item)\n",
    "        return item\n",
    "\n",
    "    def reconstruct_from_batches(self, batches, **rec_kws):\n",
    "        return self.batcher.reconstruct([*itertools.chain(*batches)], **rec_kws)\n",
    "\n",
    "    def __len__(self):\n",
    "        return len(self.batcher)"
   ]
  },
  {
   "cell_type": "markdown",
   "id": "4186787b-a46d-4743-8688-375a156822d3",
   "metadata": {
    "id": "4186787b-a46d-4743-8688-375a156822d3"
   },
   "source": [
    "## 1D - 1 variable, Patching Example"
   ]
  },
  {
   "cell_type": "code",
   "execution_count": null,
   "id": "438cf643-d9d3-4c15-854a-bb2f4b11b958",
   "metadata": {
    "colab": {
     "base_uri": "https://localhost:8080/"
    },
    "id": "438cf643-d9d3-4c15-854a-bb2f4b11b958",
    "outputId": "3af40876-aff3-4795-aa6c-1290e2f1bf25",
    "tags": []
   },
   "outputs": [],
   "source": [
    "# Preparing the training data\n",
    "raw_data = xr.tutorial.load_dataset(\"air_temperature\")\n",
    "TrainingItem = collections.namedtuple(\"TrainingItem\", (\"air\",))\n",
    "data = (\n",
    "    raw_data[[*TrainingItem._fields]]\n",
    "    .isel(lon=5, lat=5, time=slice(0, 1000))\n",
    "    .sortby(\"time\")\n",
    "    .to_array()\n",
    "    .transpose(\"variable\", \"time\")\n",
    "    .load()\n",
    ")\n",
    "\n",
    "# Instantiate the patching logic\n",
    "patches = dict(time=200)\n",
    "strides = dict(time=160)\n",
    "batcher = XRDAPatcher(da=data, patches=patches, strides=strides, check_full_scan=True)\n",
    "\n",
    "\n",
    "# Instantiate the\n",
    "torch_ds = XrTorchDataset(batcher, item_postpro=TrainingItem._make)\n",
    "dataloader = torch.utils.data.DataLoader(torch_ds, batch_size=4, shuffle=False)\n",
    "\n",
    "\n",
    "items = [torch_ds[i] for i in range(len(torch_ds))]\n",
    "ex_item = items[0]\n",
    "batch = next(iter(dataloader))\n",
    "print(f\"Number of items: {len(torch_ds)}\")\n",
    "print(f\"Item shape: {ex_item.air.shape=}\")\n",
    "print(f\"Batch shape: {batch.air.shape=}\")"
   ]
  },
  {
   "cell_type": "markdown",
   "id": "b0ef553c-6742-47fe-842b-20c4e25235c5",
   "metadata": {
    "id": "b0ef553c-6742-47fe-842b-20c4e25235c5"
   },
   "source": [
    "### Visualizing the input data"
   ]
  },
  {
   "cell_type": "code",
   "execution_count": null,
   "id": "0b1dcc3f-39d7-490d-be30-324af87e85fd",
   "metadata": {
    "colab": {
     "base_uri": "https://localhost:8080/",
     "height": 377
    },
    "id": "0b1dcc3f-39d7-490d-be30-324af87e85fd",
    "outputId": "58237d6d-df85-4567-8b58-72dd0f7d6e22",
    "tags": []
   },
   "outputs": [],
   "source": [
    "data.plot(figsize=(10, 3))"
   ]
  },
  {
   "cell_type": "markdown",
   "id": "2b878d38-b824-4a25-a4f0-25c2ffcb3920",
   "metadata": {
    "id": "2b878d38-b824-4a25-a4f0-25c2ffcb3920"
   },
   "source": [
    "### Visualizing the items with the overlaps"
   ]
  },
  {
   "cell_type": "code",
   "execution_count": null,
   "id": "83d175e1-9955-4545-a9e5-e6803a0368b3",
   "metadata": {
    "colab": {
     "base_uri": "https://localhost:8080/",
     "height": 290
    },
    "id": "83d175e1-9955-4545-a9e5-e6803a0368b3",
    "outputId": "9dedd0a8-451e-4435-972f-9d353577fe66",
    "tags": []
   },
   "outputs": [],
   "source": [
    "fig, axs = plt.subplots(1, 6, figsize=(15, 3))\n",
    "for i, (item, ax) in enumerate(zip(items, axs)):\n",
    "    ax.plot(\n",
    "        item.air,\n",
    "        \"k\",\n",
    "    )\n",
    "    l = None\n",
    "    if i > 0:\n",
    "        (l,) = ax.plot(range(40), item.air[:40], \"b-\", label=\"overlap\")\n",
    "\n",
    "    if i < 5:\n",
    "        (l,) = ax.plot(range(160, 200), item.air[160:], \"b-\", label=\"overlap\")\n",
    "    if i == 0:\n",
    "        ax.legend(handles=[l])\n",
    "    ax.set_title(f\"Item {i}\")\n",
    "    ax.set_ylim([data.min(), data.max()])\n",
    "    ax.set_xticks([], labels=None)\n",
    "    ax.set_axis_off()\n",
    "    ax.set_yticks([], labels=None)"
   ]
  },
  {
   "cell_type": "markdown",
   "id": "7e9db2c4-8018-4606-a4c8-7ebe9baada20",
   "metadata": {
    "id": "7e9db2c4-8018-4606-a4c8-7ebe9baada20"
   },
   "source": [
    "## 2D Patching Example"
   ]
  },
  {
   "cell_type": "code",
   "execution_count": null,
   "id": "ccaae716-b7db-4cfd-80c7-ad21929e0e6f",
   "metadata": {
    "colab": {
     "base_uri": "https://localhost:8080/"
    },
    "id": "ccaae716-b7db-4cfd-80c7-ad21929e0e6f",
    "outputId": "a2f9b91b-2c73-4c91-ecd7-7d50e14f9c27",
    "tags": []
   },
   "outputs": [],
   "source": [
    "# Preparing the training data\n",
    "raw_data = xr.tutorial.load_dataset(\"eraint_uvz\")\n",
    "TrainingItem = collections.namedtuple(\"TrainingItem\", (\"u\", \"v\"))\n",
    "data = (\n",
    "    raw_data[[*TrainingItem._fields]]\n",
    "    .isel(longitude=slice(None, 400), latitude=slice(None, 200), month=0, level=0)\n",
    "    .sortby(\"longitude\")\n",
    "    .sortby(\"latitude\")\n",
    "    .to_array()\n",
    "    .transpose(\"variable\", \"latitude\", \"longitude\")\n",
    "    .load()\n",
    ")\n",
    "\n",
    "# Instantiate the patching logic\n",
    "patches = dict(longitude=100, latitude=50)\n",
    "batcher = XRDAPatcher(\n",
    "    da=data, patches=patches, strides=patches, check_full_scan=True  # No overlap\n",
    ")\n",
    "\n",
    "\n",
    "# Instantiate the\n",
    "torch_ds = XrTorchDataset(batcher, item_postpro=TrainingItem._make)\n",
    "dataloader = torch.utils.data.DataLoader(torch_ds, batch_size=4, shuffle=False)\n",
    "\n",
    "\n",
    "items = [torch_ds[i] for i in range(len(torch_ds))]\n",
    "ex_item = items[0]\n",
    "batch = next(iter(dataloader))\n",
    "\n",
    "print(f\"Item shape: {ex_item.u.shape=}, {ex_item.v.shape=}\")\n",
    "print(f\"Batch shape: {batch.u.shape=}, {batch.v.shape=}\")"
   ]
  },
  {
   "cell_type": "code",
   "execution_count": null,
   "id": "8cab8439-d4c9-47e3-8f8e-b0b869fdb28a",
   "metadata": {
    "colab": {
     "base_uri": "https://localhost:8080/"
    },
    "id": "8cab8439-d4c9-47e3-8f8e-b0b869fdb28a",
    "outputId": "bbf67099-6bf2-47e8-c3fc-369cfe8fe7f0",
    "tags": []
   },
   "outputs": [],
   "source": [
    "print(\n",
    "    f\"Dataset length is {len(torch_ds)}, \\n Number of patches per dims are {torch_ds.batcher.da_size}\"\n",
    ")"
   ]
  },
  {
   "cell_type": "markdown",
   "id": "3543d357-1551-4cca-aaee-1a2166664591",
   "metadata": {
    "id": "3543d357-1551-4cca-aaee-1a2166664591",
    "tags": []
   },
   "source": [
    "### Vizualizing the patch process"
   ]
  },
  {
   "cell_type": "markdown",
   "id": "94f9c97f-3d02-44c6-aa2d-866788a6eb01",
   "metadata": {
    "id": "94f9c97f-3d02-44c6-aa2d-866788a6eb01"
   },
   "source": [
    "#### Input data:"
   ]
  },
  {
   "cell_type": "code",
   "execution_count": null,
   "id": "c9a6d33a-7732-4d3c-a04f-842cfcc291ec",
   "metadata": {
    "colab": {
     "base_uri": "https://localhost:8080/",
     "height": 524
    },
    "id": "c9a6d33a-7732-4d3c-a04f-842cfcc291ec",
    "outputId": "058b4d9b-5386-4c74-b044-0db458527533",
    "tags": []
   },
   "outputs": [],
   "source": [
    "data.plot(row=\"variable\", figsize=(5, 5))"
   ]
  },
  {
   "cell_type": "markdown",
   "id": "ff224b73-8738-4671-ad4d-a3dcef23b1f1",
   "metadata": {
    "id": "ff224b73-8738-4671-ad4d-a3dcef23b1f1",
    "tags": []
   },
   "source": [
    "#### Items drawn from the torch dataset"
   ]
  },
  {
   "cell_type": "code",
   "execution_count": null,
   "id": "67ac2ff2-3b27-4a40-8a14-6dde076f8af7",
   "metadata": {
    "colab": {
     "base_uri": "https://localhost:8080/",
     "height": 510
    },
    "id": "67ac2ff2-3b27-4a40-8a14-6dde076f8af7",
    "outputId": "7bd6420c-bd10-466d-a500-a98ad61c5446",
    "tags": []
   },
   "outputs": [],
   "source": [
    "def plot_patches(items_to_plot, nbaxes=(4, 4)):\n",
    "    fig, axs = plt.subplots(*nbaxes, figsize=(5, 2.5))\n",
    "\n",
    "    for item, ax in zip(items_to_plot, [*itertools.chain(*reversed(axs))]):\n",
    "        ax.imshow(item, cmap=\"RdBu_r\", vmax=70, vmin=-70, origin=\"lower\")\n",
    "        ax.set_xticks([], labels=None)\n",
    "        ax.set_axis_off()\n",
    "        ax.set_yticks([], labels=None)\n",
    "\n",
    "\n",
    "print(\"Patches of u\")\n",
    "plot_patches([i.u for i in items])\n",
    "plt.show()\n",
    "\n",
    "print(\"\\n\\nPatches of v\")\n",
    "plot_patches([i.v for i in items])"
   ]
  },
  {
   "cell_type": "markdown",
   "id": "78d01900-d2fd-4495-af8e-05dd97b9e0da",
   "metadata": {
    "id": "78d01900-d2fd-4495-af8e-05dd97b9e0da"
   },
   "source": [
    "#### Reconstructing the amplitude of the speed from the patches"
   ]
  },
  {
   "cell_type": "code",
   "execution_count": null,
   "id": "38fd120b-b05c-42a6-94f3-055112e2f57e",
   "metadata": {
    "colab": {
     "base_uri": "https://localhost:8080/",
     "height": 291
    },
    "id": "38fd120b-b05c-42a6-94f3-055112e2f57e",
    "outputId": "6ab42bd8-e500-4515-c8e1-e61283e22708",
    "tags": []
   },
   "outputs": [],
   "source": [
    "rec_ds = torch_ds.reconstruct_from_batches(\n",
    "    (np.sqrt(batch.u**2 + batch.v**2) for batch in dataloader),\n",
    "    dims_labels=[\"latitude\", \"longitude\"],\n",
    ")\n",
    "rec_ds.plot(figsize=(5, 2))"
   ]
  },
  {
   "cell_type": "markdown",
   "id": "d7a68de5-fe4a-4c5c-8145-b398d2d24ad2",
   "metadata": {
    "id": "d7a68de5-fe4a-4c5c-8145-b398d2d24ad2"
   },
   "source": [
    "#### Reconstructing the laplacian (~ vorticity) from the patches"
   ]
  },
  {
   "cell_type": "code",
   "execution_count": null,
   "id": "83cf5235-d822-4c21-9115-c300123ee7fe",
   "metadata": {
    "colab": {
     "base_uri": "https://localhost:8080/",
     "height": 291
    },
    "id": "83cf5235-d822-4c21-9115-c300123ee7fe",
    "outputId": "97262a02-7174-4828-c302-4f247fcc98f2",
    "tags": []
   },
   "outputs": [],
   "source": [
    "rec_ds = torch_ds.reconstruct_from_batches(\n",
    "    (\n",
    "        (np.diff(batch.u, axis=1, prepend=0) + np.diff(batch.v, axis=2, prepend=0))\n",
    "        for batch in dataloader\n",
    "    ),\n",
    "    dims_labels=[\"latitude\", \"longitude\"],\n",
    ")\n",
    "rec_ds.plot(figsize=(5, 2))"
   ]
  },
  {
   "cell_type": "markdown",
   "id": "1bc55b1c-b686-4434-8619-147806e3c2d8",
   "metadata": {
    "id": "1bc55b1c-b686-4434-8619-147806e3c2d8"
   },
   "source": [
    "**We see that the border of the patches creates artifact during the derivative: We can fix it by using overlapping patches**"
   ]
  },
  {
   "cell_type": "markdown",
   "id": "2a7b7cb2-5ab7-4b1c-80da-d649aa72995d",
   "metadata": {
    "id": "2a7b7cb2-5ab7-4b1c-80da-d649aa72995d",
    "tags": []
   },
   "source": [
    "#### Solution with overlapping patches (stride smaller than patch size)\n"
   ]
  },
  {
   "cell_type": "code",
   "execution_count": null,
   "id": "ef06fa9b-8dcd-4e5a-9800-9db171892085",
   "metadata": {
    "colab": {
     "base_uri": "https://localhost:8080/",
     "height": 291
    },
    "id": "ef06fa9b-8dcd-4e5a-9800-9db171892085",
    "outputId": "92402ea4-7bd4-4397-d462-94312ea0457f"
   },
   "outputs": [],
   "source": [
    "patches = dict(longitude=100, latitude=50)\n",
    "strides = dict(longitude=60, latitude=30)\n",
    "batcher = XRDAPatcher(da=data, patches=patches, strides=strides, check_full_scan=True)\n",
    "\n",
    "rec_weight = np.ones((50, 100))  # Weight for each pixel of one patch\n",
    "rec_weight[:10] = 0  # do not use the border pixels during the reconstruction\n",
    "rec_weight[:, :20] = 0\n",
    "rec_weight[-10:] = 0\n",
    "rec_weight[:, -20:] = 0\n",
    "\n",
    "# Instantiate the\n",
    "torch_ds = XrTorchDataset(batcher, item_postpro=TrainingItem._make)\n",
    "dataloader = torch.utils.data.DataLoader(torch_ds, batch_size=4, shuffle=False)\n",
    "rec_ds = torch_ds.reconstruct_from_batches(\n",
    "    (\n",
    "        (np.diff(batch.u, axis=1, prepend=0) + np.diff(batch.v, axis=2, prepend=0))\n",
    "        for batch in dataloader\n",
    "    ),\n",
    "    dims_labels=[\"latitude\", \"longitude\"],\n",
    "    weight=rec_weight,\n",
    ")\n",
    "rec_ds.plot(figsize=(5, 2))"
   ]
  },
  {
   "cell_type": "code",
   "execution_count": null,
   "id": "a72806fe-9769-48a3-8ed4-0a7b0096d646",
   "metadata": {
    "colab": {
     "base_uri": "https://localhost:8080/",
     "height": 510
    },
    "id": "a72806fe-9769-48a3-8ed4-0a7b0096d646",
    "outputId": "c5ceeb1e-682f-4a16-83c2-5003e175fcc1",
    "tags": []
   },
   "outputs": [],
   "source": [
    "print(\"Patches of u with overlap\")\n",
    "plot_patches([torch_ds[i].u for i in range(len(torch_ds))], (6, 6))\n",
    "plt.show()\n",
    "print(\"\\n\\nPatches of u with reconstruction mask\")\n",
    "plot_patches([torch_ds[i].u * rec_weight for i in range(len(torch_ds))], (6, 6))"
   ]
  },
  {
   "cell_type": "code",
   "execution_count": null,
   "id": "b06bf09f-c6f6-44ed-8f9b-c7f940bf249a",
   "metadata": {
    "id": "b06bf09f-c6f6-44ed-8f9b-c7f940bf249a"
   },
   "outputs": [],
   "source": []
  }
 ],
 "metadata": {
  "colab": {
   "include_colab_link": true,
   "provenance": []
  },
  "kernelspec": {
   "display_name": "oceanbench",
   "language": "python",
   "name": "oceanbench"
  },
  "language_info": {
   "codemirror_mode": {
    "name": "ipython",
    "version": 3
   },
   "file_extension": ".py",
   "mimetype": "text/x-python",
   "name": "python",
   "nbconvert_exporter": "python",
   "pygments_lexer": "ipython3",
   "version": "3.10.10"
  }
 },
 "nbformat": 4,
 "nbformat_minor": 5
}
